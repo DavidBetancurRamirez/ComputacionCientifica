{
 "cells": [
  {
   "cell_type": "markdown",
   "id": "3cbbbef5",
   "metadata": {},
   "source": [
    "# Ejercicio de reducción de la dimensionalidad"
   ]
  },
  {
   "cell_type": "markdown",
   "id": "0e1c681b",
   "metadata": {},
   "source": [
    "// TODO: Buscar esta info"
   ]
  },
  {
   "cell_type": "code",
   "execution_count": 1,
   "id": "92f4f079",
   "metadata": {},
   "outputs": [],
   "source": [
    "# Importación librerías\n",
    "# Tratamiento de datos\n",
    "import numpy as np\n",
    "import pandas as pd\n",
    "import statsmodels.api as sm\n",
    "\n",
    "# Gráficos\n",
    "import matplotlib.pyplot as plt\n",
    "from matplotlib import style\n",
    "style.use('ggplot')\n",
    "\n",
    "# Implementación de PCA\n",
    "from sklearn.decomposition import PCA\n",
    "from sklearn.pipeline import make_pipeline\n",
    "from sklearn.preprocessing import MinMaxScaler\n",
    "\n",
    "# Advertencias\n",
    "import warnings\n",
    "warnings.filterwarnings('ignore')"
   ]
  },
  {
   "cell_type": "code",
   "execution_count": 2,
   "id": "b3aef7df",
   "metadata": {},
   "outputs": [
    {
     "name": "stdout",
     "output_type": "stream",
     "text": [
      "<class 'pandas.core.frame.DataFrame'>\n",
      "Index: 50 entries, Alabama to Wyoming\n",
      "Data columns (total 4 columns):\n",
      " #   Column    Non-Null Count  Dtype  \n",
      "---  ------    --------------  -----  \n",
      " 0   Murder    50 non-null     float64\n",
      " 1   Assault   50 non-null     int64  \n",
      " 2   UrbanPop  50 non-null     int64  \n",
      " 3   Rape      50 non-null     float64\n",
      "dtypes: float64(2), int64(2)\n",
      "memory usage: 2.0+ KB\n"
     ]
    }
   ],
   "source": [
    "# Extraer datos\n",
    "USArrests = sm.datasets.get_rdataset('USArrests', 'datasets')\n",
    "data = USArrests.data\n",
    "data.info()"
   ]
  },
  {
   "cell_type": "code",
   "execution_count": 3,
   "id": "4d0ea8a5",
   "metadata": {},
   "outputs": [
    {
     "name": "stdout",
     "output_type": "stream",
     "text": [
      "Promedio de cada variable\n"
     ]
    },
    {
     "data": {
      "text/plain": [
       "Murder        7.788\n",
       "Assault     170.760\n",
       "UrbanPop     65.540\n",
       "Rape         21.232\n",
       "dtype: float64"
      ]
     },
     "execution_count": 3,
     "metadata": {},
     "output_type": "execute_result"
    }
   ],
   "source": [
    "# Promedio de cada variable\n",
    "print('Promedio de cada variable')\n",
    "data.mean(axis=0)"
   ]
  },
  {
   "cell_type": "code",
   "execution_count": 4,
   "id": "57a38b7d",
   "metadata": {},
   "outputs": [
    {
     "name": "stdout",
     "output_type": "stream",
     "text": [
      "Desviación estandar de cada variable\n"
     ]
    },
    {
     "data": {
      "text/plain": [
       "Murder       4.355510\n",
       "Assault     83.337661\n",
       "UrbanPop    14.474763\n",
       "Rape         9.366385\n",
       "dtype: float64"
      ]
     },
     "execution_count": 4,
     "metadata": {},
     "output_type": "execute_result"
    }
   ],
   "source": [
    "# Promedio de cada variable\n",
    "print('Desviación estandar de cada variable')\n",
    "data.std(axis=0)"
   ]
  },
  {
   "cell_type": "markdown",
   "id": "fdc37df9",
   "metadata": {},
   "source": [
    "## Modelo PCA\n",
    "\n",
    "// TODO: Buscar esta info"
   ]
  }
 ],
 "metadata": {
  "kernelspec": {
   "display_name": "compCientEnv",
   "language": "python",
   "name": "python3"
  },
  "language_info": {
   "codemirror_mode": {
    "name": "ipython",
    "version": 3
   },
   "file_extension": ".py",
   "mimetype": "text/x-python",
   "name": "python",
   "nbconvert_exporter": "python",
   "pygments_lexer": "ipython3",
   "version": "3.12.6"
  }
 },
 "nbformat": 4,
 "nbformat_minor": 5
}
